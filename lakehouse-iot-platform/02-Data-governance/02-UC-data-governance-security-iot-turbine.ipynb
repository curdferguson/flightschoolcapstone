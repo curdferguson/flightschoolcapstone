{
 "cells": [
  {
   "cell_type": "markdown",
   "metadata": {
    "application/vnd.databricks.v1+cell": {
     "cellMetadata": {
      "byteLimit": 2048000,
      "rowLimit": 10000
     },
     "inputWidgets": {},
     "nuid": "82fca1b9-196a-4ba6-b616-4f44f87224e0",
     "showTitle": false,
     "tableResultSettingsMap": {},
     "title": ""
    }
   },
   "source": [
    "# Ensuring Governance and security for our IOT platform\n",
    "\n",
    "Data governance and security is hard when it comes to a complete Data Platform. SQL GRANT on tables isn't enough and security must be enforced for multiple data assets (dashboards, Models, files etc).\n",
    "\n",
    "To reduce risks and driving innovation, Emily's team needs to:\n",
    "\n",
    "- Unify all data assets (Tables, Files, ML models, Features, Dashboards, Queries)\n",
    "- Onboard data with multiple teams\n",
    "- Share & monetize assets with external Organizations\n",
    "\n",
    "<style>\n",
    ".box{\n",
    "  box-shadow: 20px -20px #CCC; height:300px; box-shadow:  0 0 10px  rgba(0,0,0,0.3); padding: 5px 10px 0px 10px;}\n",
    ".badge {\n",
    "  clear: left; float: left; height: 30px; width: 30px;  display: table-cell; vertical-align: middle; border-radius: 50%; background: #fcba33ff; text-align: center; color: white; margin-right: 10px}\n",
    ".badge_b { \n",
    "  height: 35px}\n",
    "</style>\n",
    "<link href='https://fonts.googleapis.com/css?family=DM Sans' rel='stylesheet'>\n",
    "<div style=\"padding: 20px; font-family: 'DM Sans'; color: #1b5162\">\n",
    "  <div style=\"width:200px; float: left; text-align: center\">\n",
    "    <div class=\"box\" style=\"\">\n",
    "      <div style=\"font-size: 26px;\">\n",
    "        <strong>Team A</strong>\n",
    "      </div>\n",
    "      <div style=\"font-size: 13px\">\n",
    "        <img src=\"https://github.com/databricks-demos/dbdemos-resources/raw/main/images/da.png\" style=\"\" width=\"60px\"> <br/>\n",
    "        Data Analysts<br/>\n",
    "        <img src=\"https://github.com/databricks-demos/dbdemos-resources/raw/main/images/ds.png\" style=\"\" width=\"60px\"> <br/>\n",
    "        Data Scientists<br/>\n",
    "        <img src=\"https://github.com/databricks-demos/dbdemos-resources/raw/main/images/de.png\" style=\"\" width=\"60px\"> <br/>\n",
    "        Data Engineers\n",
    "      </div>\n",
    "    </div>\n",
    "    <div class=\"box\" style=\"height: 80px; margin: 20px 0px 50px 0px\">\n",
    "      <div style=\"font-size: 26px;\">\n",
    "        <strong>Team B</strong>\n",
    "      </div>\n",
    "      <div style=\"font-size: 13px\">...</div>\n",
    "    </div>\n",
    "  </div>\n",
    "  <div style=\"float: left; width: 400px; padding: 0px 20px 0px 20px\">\n",
    "    <div style=\"margin: 20px 0px 0px 20px\">Permissions on queries, dashboards</div>\n",
    "    <img src=\"https://github.com/databricks-demos/dbdemos-resources/raw/main/images/horizontal-arrow-dash.png\" style=\"width: 400px\">\n",
    "    <div style=\"margin: 20px 0px 0px 20px\">Permissions on tables, columns, rows</div>\n",
    "    <img src=\"https://github.com/databricks-demos/dbdemos-resources/raw/main/images/horizontal-arrow-dash.png\" style=\"width: 400px\">\n",
    "    <div style=\"margin: 20px 0px 0px 20px\">Permissions on features, ML models, endpoints, notebooks…</div>\n",
    "    <img src=\"https://github.com/databricks-demos/dbdemos-resources/raw/main/images/horizontal-arrow-dash.png\" style=\"width: 400px\">\n",
    "    <div style=\"margin: 20px 0px 0px 20px\">Permissions on files, jobs</div>\n",
    "    <img src=\"https://github.com/databricks-demos/dbdemos-resources/raw/main/images/horizontal-arrow-dash.png\" style=\"width: 400px\">\n",
    "  </div>\n",
    "  \n",
    "  <div class=\"box\" style=\"width:550px; float: left\">\n",
    "    <img src=\"https://github.com/databricks-demos/dbdemos-resources/raw/main/images/gov.png\" style=\"float: left; margin-right: 10px;\" width=\"80px\"> \n",
    "    <div style=\"float: left; font-size: 26px; margin-top: 0px; line-height: 17px;\"><strong>Emily</strong> <br />Governance and Security</div>\n",
    "    <div style=\"font-size: 18px; clear: left; padding-top: 10px\">\n",
    "      <ul style=\"line-height: 2px;\">\n",
    "        <li>Central catalog - all data assets</li>\n",
    "        <li>Data exploration & discovery to unlock new use-cases</li>\n",
    "        <li>Permissions cross-teams</li>\n",
    "        <li>Reduce risk with audit logs</li>\n",
    "        <li>Measure impact with lineage</li>\n",
    "      </ul>\n",
    "      + Monetize & Share data with external organization (Delta Sharing)\n",
    "    </div>\n",
    "  </div>\n",
    "  \n",
    "  \n",
    "</div>\n",
    "\n",
    "\n",
    "<!-- Collect usage data (view). Remove it to disable collection. View README for more details.  -->\n",
    "<img width=\"1px\" src=\"https://ppxrzfxige.execute-api.us-west-2.amazonaws.com/v1/analytics?category=lakehouse&org_id=1444828305810485&notebook=%2F02-Data-governance%2F02-UC-data-governance-security-iot-turbine&demo_name=lakehouse-iot-platform&event=VIEW&path=%2F_dbdemos%2Flakehouse%2Flakehouse-iot-platform%2F02-Data-governance%2F02-UC-data-governance-security-iot-turbine&version=1\">"
   ]
  },
  {
   "cell_type": "markdown",
   "metadata": {
    "application/vnd.databricks.v1+cell": {
     "cellMetadata": {
      "byteLimit": 2048000,
      "rowLimit": 10000
     },
     "inputWidgets": {},
     "nuid": "7b3558eb-31c2-4277-b22f-b701fdfdb782",
     "showTitle": false,
     "tableResultSettingsMap": {},
     "title": null
    }
   },
   "source": [
    "### A cluster has been created for this demo\n",
    "To run this demo, just select the cluster `dbdemos-lakehouse-iot-platform-tyler_frankenberg` from the dropdown menu ([open cluster configuration](https://e2-demo-field-eng.cloud.databricks.com/#setting/clusters/1211-204929-d4443pdo/configuration)). <br />\n",
    "*Note: If the cluster was deleted after 30 days, you can re-create it with `dbdemos.create_cluster('lakehouse-iot-platform')` or re-install the demo: `dbdemos.install('lakehouse-iot-platform')`*"
   ]
  },
  {
   "cell_type": "markdown",
   "metadata": {
    "application/vnd.databricks.v1+cell": {
     "cellMetadata": {
      "byteLimit": 2048000,
      "rowLimit": 10000
     },
     "inputWidgets": {},
     "nuid": "39ce1790-8eb6-4f23-bfee-1c15f7a5521d",
     "showTitle": false,
     "tableResultSettingsMap": {},
     "title": ""
    }
   },
   "source": [
    "# Implementing a global data governance and security with Unity Catalog\n",
    "\n",
    "<img style=\"float: right; margin-top: 30px\" width=\"500px\" src=\"https://github.com/databricks-demos/dbdemos-resources/raw/main/images/manufacturing/lakehouse-iot-turbine/lakehouse-manuf-iot-maintenance-2.png\" />\n",
    "\n",
    "Let's see how the Lakehouse can solve this challenge leveraging Unity Catalog.\n",
    "\n",
    "Our Data has been saved as Delta Table by our Data Engineering team.  The next step is to secure this data while allowing cross team to access it. <br>\n",
    "A typical setup would be the following:\n",
    "\n",
    "* Data Engineers / Jobs can read and update the main data/schemas (ETL part)\n",
    "* Data Scientists can read the final tables and update their features tables\n",
    "* Data Analyst have READ access to the Data Engineering and Feature Tables and can ingest/transform additional data in a separate schema.\n",
    "* Data is masked/anonymized dynamically based on each user access level\n",
    "\n",
    "This is made possible by Unity Catalog. When tables are saved in the Unity Catalog, they can be made accessible to the entire organization, cross-workpsaces and cross users.\n",
    "\n",
    "Unity Catalog is key for data governance, including creating data products or organazing teams around datamesh. It brings among other:\n",
    "\n",
    "* Fined grained ACL\n",
    "* Audit log\n",
    "* Data lineage\n",
    "* Data exploration & discovery\n",
    "* Sharing data with external organization (Delta Sharing)\n",
    "\n",
    "\n",
    "<!-- Collect usage data (view). Remove it to disable collection. View README for more details.  -->\n",
    "<img width=\"1px\" src=\"https://ppxrzfxige.execute-api.us-west-2.amazonaws.com/v1/analytics?category=lakehouse&org_id=1444828305810485&notebook=%2F02-Data-governance%2F02-UC-data-governance-security-iot-turbine&demo_name=lakehouse-iot-platform&event=VIEW&path=%2F_dbdemos%2Flakehouse%2Flakehouse-iot-platform%2F02-Data-governance%2F02-UC-data-governance-security-iot-turbine&version=1\">"
   ]
  },
  {
   "cell_type": "markdown",
   "metadata": {
    "application/vnd.databricks.v1+cell": {
     "cellMetadata": {
      "byteLimit": 2048000,
      "rowLimit": 10000
     },
     "inputWidgets": {},
     "nuid": "8c8cf311-a051-45b2-b9bc-4a93604538c4",
     "showTitle": false,
     "tableResultSettingsMap": {},
     "title": ""
    }
   },
   "source": [
    "## Cluster setup for UC\n",
    "\n",
    "<img src=\"https://github.com/QuentinAmbard/databricks-demo/raw/main/product_demos/uc/uc-cluster-setup-single-user.png\" style=\"float: right; margin-left: 10px\"/>\n",
    "\n",
    "To be able to run this demo, make sure you create a cluster with the security mode enabled & Unity Catalog enabled at the account level (see [documentation](https://docs.databricks.com/data-governance/unity-catalog/get-started.html))\n",
    "\n",
    "In the compute page, make sure you select \"Single User\" and your UC-user (the user needs to exist at the workspace and the account level)\n",
    "\n",
    "If you're using the cluster created by `dbdemos`, you're all good."
   ]
  },
  {
   "cell_type": "code",
   "execution_count": 0,
   "metadata": {
    "application/vnd.databricks.v1+cell": {
     "cellMetadata": {
      "byteLimit": 2048000,
      "rowLimit": 10000
     },
     "inputWidgets": {},
     "nuid": "4fec3e48-784c-4497-bdde-61845dfa29c1",
     "showTitle": false,
     "tableResultSettingsMap": {},
     "title": ""
    },
    "jupyter": {
     "outputs_hidden": true
    }
   },
   "outputs": [],
   "source": [
    "%run ../_resources/00-setup $reset_all_data=false"
   ]
  },
  {
   "cell_type": "markdown",
   "metadata": {
    "application/vnd.databricks.v1+cell": {
     "cellMetadata": {
      "byteLimit": 2048000,
      "rowLimit": 10000
     },
     "inputWidgets": {},
     "nuid": "0968d5e5-9cf8-4b3c-8670-cc70f1ae0494",
     "showTitle": false,
     "tableResultSettingsMap": {},
     "title": ""
    }
   },
   "source": [
    "## Exploring our Iot Platform database\n",
    "\n",
    "<img src=\"https://github.com/QuentinAmbard/databricks-demo/raw/main/product_demos/uc/uc-base-1.png\" style=\"float: right\" width=\"800px\"/> \n",
    "\n",
    "Let's review the data created.\n",
    "\n",
    "Unity Catalog works with 3 layers:\n",
    "\n",
    "* CATALOG\n",
    "* SCHEMA (or DATABASE)\n",
    "* TABLE\n",
    "\n",
    "All unity catalog is available with SQL (`CREATE CATALOG IF NOT EXISTS my_catalog` ...)\n",
    "\n",
    "To access one table, you can specify the full path: `SELECT * FROM &lt;CATALOG&gt;.&lt;SCHEMA&gt;.&lt;TABLE&gt;`"
   ]
  },
  {
   "cell_type": "code",
   "execution_count": 0,
   "metadata": {
    "application/vnd.databricks.v1+cell": {
     "cellMetadata": {
      "byteLimit": 2048000,
      "rowLimit": 10000
     },
     "inputWidgets": {},
     "nuid": "241efd93-d320-41cb-9315-08c881d4883b",
     "showTitle": false,
     "tableResultSettingsMap": {},
     "title": ""
    }
   },
   "outputs": [],
   "source": [
    "-- the catalog has been created for your user and is defined as default. \n",
    "-- make sure you run the 00-setup cell above to init the catalog to your user. \n",
    "SELECT CURRENT_CATALOG();"
   ]
  },
  {
   "cell_type": "markdown",
   "metadata": {
    "application/vnd.databricks.v1+cell": {
     "cellMetadata": {
      "byteLimit": 2048000,
      "rowLimit": 10000
     },
     "inputWidgets": {},
     "nuid": "caae5e33-a1a3-4632-87c4-b775f8129491",
     "showTitle": false,
     "tableResultSettingsMap": {},
     "title": ""
    }
   },
   "source": [
    "\n",
    "## Let's review the tables we created under our schema\n",
    "\n",
    "<img src=\"https://raw.githubusercontent.com/QuentinAmbard/databricks-demo/main/retail/resources/images/lakehouse-retail/lakehouse-retail-churn-data-explorer.gif\" style=\"float: right\" width=\"800px\"/> \n",
    "\n",
    "Unity Catalog provides a comprehensive Data Explorer that you can access on the left menu.\n",
    "\n",
    "**Open it and navigate under `dbdemos`.`lakehouse_iot` to review the tables created.**\n",
    "\n",
    "You'll find all the options for your data management and governance: review the tables created, add new one, share them with Delta Sharing...\n",
    "\n",
    "**You'll also be able to explore data and GRANT permissions to your users directly using the UI**\n",
    "\n",
    "\n",
    "### Discoverability \n",
    "\n",
    "In addition, Unity catalog also provides explorability and discoverability. \n",
    "\n",
    "Anyone having access to the tables will be able to search it and analyze its main usage. <br>\n",
    "You can use the Search menu (⌘ + P) to navigate in your data assets (tables, notebooks, queries...)"
   ]
  },
  {
   "cell_type": "code",
   "execution_count": 0,
   "metadata": {
    "application/vnd.databricks.v1+cell": {
     "cellMetadata": {
      "byteLimit": 2048000,
      "rowLimit": 10000
     },
     "inputWidgets": {},
     "nuid": "b1fa07b7-e709-4b0a-8f73-158104f90f7a",
     "showTitle": true,
     "tableResultSettingsMap": {},
     "title": "As you can see, our tables are available under our catalog."
    }
   },
   "outputs": [],
   "source": [
    "SHOW TABLES;"
   ]
  },
  {
   "cell_type": "code",
   "execution_count": 0,
   "metadata": {
    "application/vnd.databricks.v1+cell": {
     "cellMetadata": {
      "byteLimit": 2048000,
      "rowLimit": 10000
     },
     "inputWidgets": {},
     "nuid": "f6d25075-2199-4c2d-96ec-9994c2ce6293",
     "showTitle": true,
     "tableResultSettingsMap": {},
     "title": "Granting access to Analysts & Data Engineers:"
    }
   },
   "outputs": [],
   "source": [
    "-- Let's grant our ANALYSTS a SELECT permission:\n",
    "-- Note: make sure you created an analysts and dataengineers group first.\n",
    "GRANT SELECT ON TABLE dbdemosfs1224group5.dbdemos_iot_platform.turbine TO `analysts`;\n",
    "GRANT SELECT ON TABLE dbdemosfs1224group5.dbdemos_iot_platform.sensor_bronze TO `analysts`;\n",
    "GRANT SELECT ON TABLE dbdemosfs1224group5.dbdemos_iot_platform.sensor_hourly TO `analysts`;\n",
    "GRANT SELECT ON TABLE dbdemosfs1224group5.dbdemos_iot_platform.historical_turbine_status TO `analysts`;\n",
    "\n",
    "-- We'll grant an extra MODIFY to our Data Engineer\n",
    "GRANT SELECT, MODIFY ON SCHEMA dbdemosfs1224group5.dbdemos_iot_platform TO `dataengineers`;"
   ]
  },
  {
   "cell_type": "code",
   "execution_count": 0,
   "metadata": {
    "application/vnd.databricks.v1+cell": {
     "cellMetadata": {
      "byteLimit": 2048000,
      "rowLimit": 10000
     },
     "inputWidgets": {},
     "nuid": "f6c6e784-3072-4ff8-8eee-764199a32fb4",
     "showTitle": true,
     "tableResultSettingsMap": {},
     "title": "Review grant"
    }
   },
   "outputs": [],
   "source": [
    "SHOW GRANT ON turbine;"
   ]
  },
  {
   "cell_type": "markdown",
   "metadata": {
    "application/vnd.databricks.v1+cell": {
     "cellMetadata": {
      "byteLimit": 2048000,
      "rowLimit": 10000
     },
     "inputWidgets": {},
     "nuid": "bafabd56-4f77-47f4-989b-dbfaa3844ca1",
     "showTitle": false,
     "tableResultSettingsMap": {},
     "title": ""
    }
   },
   "source": [
    "\n",
    "## Sharing data with external organization\n",
    "\n",
    "We've seen how to GRANT access to our tables internally (to any entity within your Databricks account)\n",
    "\n",
    "However, this might not be enough. You'll have to share this data with external organizations (for data monetization, partners etc). \n",
    "\n",
    "The Lakehouse provides this capability while being agnostic about your partners data stack / cloud.\n",
    "\n",
    "This is powered by [Delta Sharing](https://www.databricks.com/en/product/delta-sharing), an open protocol creating open standard and data normalization across industries.\n",
    "\n",
    "For a full example on Delta Sharing, run: `dbdemos.intall('delta-sharing-airlines')`"
   ]
  },
  {
   "cell_type": "markdown",
   "metadata": {
    "application/vnd.databricks.v1+cell": {
     "cellMetadata": {
      "byteLimit": 2048000,
      "rowLimit": 10000
     },
     "inputWidgets": {},
     "nuid": "9cd60982-9e03-4140-9446-4292564bc57b",
     "showTitle": false,
     "tableResultSettingsMap": {},
     "title": ""
    }
   },
   "source": [
    "\n",
    "## Going further with Data governance & security\n",
    "\n",
    "By bringing all your data assets together, Unity Catalog let you build a complete and simple governance to help you scale your teams.\n",
    "\n",
    "Unity Catalog can be leveraged from simple GRANT to building a complete datamesh organization.\n",
    "\n",
    "<img src=\"https://github.com/QuentinAmbard/databricks-demo/raw/main/product_demos/uc/lineage/lineage-table.gif\" style=\"float: right; margin-left: 10px\"/>\n",
    "\n",
    "### Fine-grained ACL\n",
    "\n",
    "Need more advanced control? You can chose to dynamically change your table output based on the user permissions: `dbdemos.intall('uc-01-acl')`\n",
    "\n",
    "### Secure external location (S3/ADLS/GCS)\n",
    "\n",
    "Unity Catatalog let you secure your managed table but also your external locations:  `dbdemos.intall('uc-02-external-location')`\n",
    "\n",
    "### Lineage \n",
    "\n",
    "UC automatically captures table dependencies and let you track how your data is used, including at a row level: `dbdemos.intall('uc-03-data-lineage')`\n",
    "\n",
    "This leat you analyze downstream impact, or monitor sensitive information across the entire organization (GDPR).\n",
    "\n",
    "\n",
    "### Audit log\n",
    "\n",
    "UC captures all events. Need to know who is accessing which data? Query your audit log:  `dbdemos.intall('uc-04-audit-log')`\n",
    "\n",
    "This leat you analyze downstream impact, or monitor sensitive information across the entire organization (GDPR).\n",
    "\n",
    "### Upgrading to UC\n",
    "\n",
    "Already using Databricks without UC? Upgrading your tables to benefit from Unity Catalog is simple:  `dbdemos.intall('uc-05-upgrade')`"
   ]
  },
  {
   "cell_type": "markdown",
   "metadata": {
    "application/vnd.databricks.v1+cell": {
     "cellMetadata": {
      "byteLimit": 2048000,
      "rowLimit": 10000
     },
     "inputWidgets": {},
     "nuid": "a26f8d17-98c8-4468-b4d7-b0fca4505721",
     "showTitle": false,
     "tableResultSettingsMap": {},
     "title": ""
    }
   },
   "source": [
    "# Next: Start building analysis with Databricks SQL\n",
    "\n",
    "Now that these tables are available in our Lakehouse and secured, let's see how our Data Analyst team can start leveraging them to run BI workloads\n",
    "\n",
    "Jump to the [BI / Data warehousing notebook]($../03-BI-data-warehousing/03-BI-Datawarehousing-iot-turbine) or [Go back to the introduction]($../00-IOT-wind-turbine-introduction-lakehouse)"
   ]
  }
 ],
 "metadata": {
  "application/vnd.databricks.v1+notebook": {
   "computePreferences": null,
   "dashboards": [],
   "environmentMetadata": null,
   "language": "sql",
   "notebookMetadata": {
    "pythonIndentUnit": 2
   },
   "notebookName": "02-UC-data-governance-security-iot-turbine",
   "widgets": {}
  },
  "language_info": {
   "name": "sql"
  }
 },
 "nbformat": 4,
 "nbformat_minor": 0
}
