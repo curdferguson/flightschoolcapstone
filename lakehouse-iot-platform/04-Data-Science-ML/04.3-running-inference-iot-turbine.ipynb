{
 "cells": [
  {
   "cell_type": "markdown",
   "metadata": {
    "application/vnd.databricks.v1+cell": {
     "cellMetadata": {},
     "inputWidgets": {},
     "nuid": "ebccb7f7-65b4-4c63-8181-4e47de5fcaed",
     "showTitle": false,
     "tableResultSettingsMap": {},
     "title": ""
    }
   },
   "source": [
    "# Predictive Maintenance Inference - Batch or serverless real-time\n",
    "\n",
    "\n",
    "With AutoML, our best model was automatically saved in our MLFlow registry.\n",
    "\n",
    "All we need to do now is use this model to run Inferences. A simple solution is to share the model name to our Data Engineering team and they'll be able to call this model within the pipeline they maintained. That's what we did in our Delta Live Table pipeline!\n",
    "\n",
    "Alternatively, this can be schedule in a separate job. Here is an example to show you how MLFlow can be directly used to retriver the model and run inferences.\n",
    "\n",
    "*Make sure you run the previous notebook to be able to access the data.*\n",
    "\n",
    "## Environment Recreation\n",
    "The cell below downloads the model artifacts associated with your model in the remote registry, which include `conda.yaml` and `requirements.txt` files. In this notebook, `pip` is used to reinstall dependencies by default.\n",
    "\n",
    "<!-- Collect usage data (view). Remove it to disable collection. View README for more details.  -->\n",
    "<img width=\"1px\" src=\"https://ppxrzfxige.execute-api.us-west-2.amazonaws.com/v1/analytics?category=lakehouse&org_id=1444828305810485&notebook=%2F04-Data-Science-ML%2F04.3-running-inference-iot-turbine&demo_name=lakehouse-iot-platform&event=VIEW&path=%2F_dbdemos%2Flakehouse%2Flakehouse-iot-platform%2F04-Data-Science-ML%2F04.3-running-inference-iot-turbine&version=1\">"
   ]
  },
  {
   "cell_type": "markdown",
   "metadata": {
    "application/vnd.databricks.v1+cell": {
     "cellMetadata": {},
     "inputWidgets": {},
     "nuid": "70ecd166-77eb-4371-987a-0bc750ce0627",
     "showTitle": false,
     "tableResultSettingsMap": {},
     "title": null
    }
   },
   "source": [
    "### A cluster has been created for this demo\n",
    "To run this demo, just select the cluster `dbdemos-lakehouse-iot-platform-tyler_frankenberg` from the dropdown menu ([open cluster configuration](https://e2-demo-field-eng.cloud.databricks.com/#setting/clusters/1211-204929-d4443pdo/configuration)). <br />\n",
    "*Note: If the cluster was deleted after 30 days, you can re-create it with `dbdemos.create_cluster('lakehouse-iot-platform')` or re-install the demo: `dbdemos.install('lakehouse-iot-platform')`*"
   ]
  },
  {
   "cell_type": "code",
   "execution_count": 0,
   "metadata": {
    "application/vnd.databricks.v1+cell": {
     "cellMetadata": {},
     "inputWidgets": {},
     "nuid": "561b9ace-d2a8-424e-8a24-98dc40d0925c",
     "showTitle": false,
     "tableResultSettingsMap": {},
     "title": ""
    },
    "jupyter": {
     "outputs_hidden": true
    }
   },
   "outputs": [],
   "source": [
    "%run ../config"
   ]
  },
  {
   "cell_type": "code",
   "execution_count": 0,
   "metadata": {
    "application/vnd.databricks.v1+cell": {
     "cellMetadata": {},
     "inputWidgets": {},
     "nuid": "5e001b5d-71ed-489a-b4b1-7b3bc712dc4f",
     "showTitle": false,
     "tableResultSettingsMap": {},
     "title": ""
    }
   },
   "outputs": [],
   "source": [
    "from mlflow.store.artifact.models_artifact_repo import ModelsArtifactRepository\n",
    "import os\n",
    "import mlflow\n",
    "mlflow.set_registry_uri('databricks-uc')\n",
    "local_path = ModelsArtifactRepository(f\"models:/{catalog}.{db}.dbdemos_turbine_maintenance@prod\").download_artifacts(\"\") # download model from remote registry\n",
    "\n",
    "requirements_path = os.path.join(local_path, \"requirements.txt\")\n",
    "if not os.path.exists(requirements_path):\n",
    "  dbutils.fs.put(\"file:\" + requirements_path, \"\", True)"
   ]
  },
  {
   "cell_type": "code",
   "execution_count": 0,
   "metadata": {
    "application/vnd.databricks.v1+cell": {
     "cellMetadata": {},
     "inputWidgets": {},
     "nuid": "2ad3988e-2de3-4c1c-8fda-ee868874bcf2",
     "showTitle": false,
     "tableResultSettingsMap": {},
     "title": ""
    }
   },
   "outputs": [],
   "source": [
    "%pip install databricks-sdk==0.36.0\n",
    "%pip install -r $requirements_path\n",
    "dbutils.library.restartPython()"
   ]
  },
  {
   "cell_type": "code",
   "execution_count": 0,
   "metadata": {
    "application/vnd.databricks.v1+cell": {
     "cellMetadata": {},
     "inputWidgets": {},
     "nuid": "d43f01ef-7153-4330-963b-3d9186b4842b",
     "showTitle": false,
     "tableResultSettingsMap": {},
     "title": ""
    },
    "jupyter": {
     "outputs_hidden": true
    }
   },
   "outputs": [],
   "source": [
    "%run ../_resources/00-setup $reset_all_data=false"
   ]
  },
  {
   "cell_type": "markdown",
   "metadata": {
    "application/vnd.databricks.v1+cell": {
     "cellMetadata": {},
     "inputWidgets": {},
     "nuid": "78fd4855-e928-4b79-a9b2-53b5c4ffd3a8",
     "showTitle": false,
     "tableResultSettingsMap": {},
     "title": ""
    }
   },
   "source": [
    "##Deploying the model for batch inferences\n",
    "\n",
    "<img style=\"float: right; margin-left: 20px\" width=\"800\" src=\"https://github.com/databricks-demos/dbdemos-resources/blob/main/images/retail/lakehouse-churn/ep_model_serving_creation.gif?raw=true\" />\n",
    "\n",
    "Now that our model is available in the Registry, we can load it to compute our inferences and save them in a table to start building dashboards.\n",
    "\n",
    "We will use MLFlow function to load a pyspark UDF and distribute our inference in the entire cluster. If the data is small, we can also load the model with plain python and use a pandas Dataframe.\n",
    "\n",
    "If you don't know how to start, Databricks can generate a batch inference notebook in just one click from the model registry: Open MLFlow model registry and click the \"User model for inference\" button!"
   ]
  },
  {
   "cell_type": "markdown",
   "metadata": {
    "application/vnd.databricks.v1+cell": {
     "cellMetadata": {},
     "inputWidgets": {},
     "nuid": "0fefa16b-1b1b-494e-8257-8b714fac8500",
     "showTitle": false,
     "tableResultSettingsMap": {},
     "title": ""
    }
   },
   "source": [
    "### Scaling inferences using Spark \n",
    "We'll first see how it can be loaded as a spark UDF and called directly in a SQL function:"
   ]
  },
  {
   "cell_type": "code",
   "execution_count": 0,
   "metadata": {
    "application/vnd.databricks.v1+cell": {
     "cellMetadata": {},
     "inputWidgets": {},
     "nuid": "97ae025b-1a5f-42ad-b0c9-0d6fdf60d972",
     "showTitle": false,
     "tableResultSettingsMap": {},
     "title": ""
    }
   },
   "outputs": [],
   "source": [
    "mlflow.set_registry_uri('databricks-uc')\n",
    "#                                                                                                   Stage/version\n",
    "#                                                                                 Model name              |\n",
    "#                                                                                       |                 |\n",
    "predict_maintenance = mlflow.pyfunc.spark_udf(spark, f\"models:/{catalog}.{db}.dbdemos_turbine_maintenance@prod\", result_type=\"string\")\n",
    "#We can use the function in SQL\n",
    "spark.udf.register(\"predict_maintenance\", predict_maintenance)"
   ]
  },
  {
   "cell_type": "code",
   "execution_count": 0,
   "metadata": {
    "application/vnd.databricks.v1+cell": {
     "cellMetadata": {},
     "inputWidgets": {},
     "nuid": "8534d1fa-55c6-4fa7-8567-c3c354c73275",
     "showTitle": true,
     "tableResultSettingsMap": {},
     "title": "Run inferences"
    }
   },
   "outputs": [],
   "source": [
    "columns = predict_maintenance.metadata.get_input_schema().input_names()\n",
    "spark.table('turbine_hourly_features').withColumn(\"dbdemos_turbine_maintenance\", predict_maintenance(*columns)).display()"
   ]
  },
  {
   "cell_type": "code",
   "execution_count": 0,
   "metadata": {
    "application/vnd.databricks.v1+cell": {
     "cellMetadata": {},
     "inputWidgets": {},
     "nuid": "c46f9c38-3696-45da-9af2-fcc6c7bd7535",
     "showTitle": true,
     "tableResultSettingsMap": {},
     "title": "Or in SQL directly"
    }
   },
   "outputs": [],
   "source": [
    "%sql\n",
    "SELECT turbine_id, predict_maintenance(hourly_timestamp, avg_energy, std_sensor_A, std_sensor_B, std_sensor_C, std_sensor_D, std_sensor_E, std_sensor_F, percentiles_sensor_A, percentiles_sensor_B, percentiles_sensor_C, percentiles_sensor_D, percentiles_sensor_E, percentiles_sensor_F, location, model, state) as prediction FROM turbine_hourly_features"
   ]
  },
  {
   "cell_type": "markdown",
   "metadata": {
    "application/vnd.databricks.v1+cell": {
     "cellMetadata": {},
     "inputWidgets": {},
     "nuid": "78fc62e1-e40a-4875-83ea-17ce285aff82",
     "showTitle": false,
     "tableResultSettingsMap": {},
     "title": ""
    }
   },
   "source": [
    "### Pure pandas inference\n",
    "If we have a small dataset, we can also compute our segment using a single node and pandas API:"
   ]
  },
  {
   "cell_type": "code",
   "execution_count": 0,
   "metadata": {
    "application/vnd.databricks.v1+cell": {
     "cellMetadata": {},
     "inputWidgets": {},
     "nuid": "6e54ce1c-93b8-4614-a80e-6b884c74008c",
     "showTitle": false,
     "tableResultSettingsMap": {},
     "title": ""
    }
   },
   "outputs": [],
   "source": [
    "model = mlflow.pyfunc.load_model(f\"models:/{catalog}.{db}.dbdemos_turbine_maintenance@prod\")\n",
    "df = spark.table('turbine_hourly_features').select(*columns).limit(10).toPandas()\n",
    "df['churn_prediction'] = model.predict(df)\n",
    "display(df)"
   ]
  },
  {
   "cell_type": "markdown",
   "metadata": {
    "application/vnd.databricks.v1+cell": {
     "cellMetadata": {},
     "inputWidgets": {},
     "nuid": "769e50a7-99a6-446f-b4f0-d57303cc9f2f",
     "showTitle": false,
     "tableResultSettingsMap": {},
     "title": ""
    }
   },
   "source": [
    "\n",
    "## Realtime model serving with Databricks serverless serving\n",
    "\n",
    "<img style=\"float: right; margin-left: 20px\" width=\"800\" src=\"https://github.com/databricks-demos/dbdemos-resources/blob/main/images/retail/lakehouse-churn/ep_model_serving_creation.gif?raw=true\" />\n",
    "\n",
    "Databricks also provides serverless serving.\n",
    "\n",
    "Click on model Serving, enable realtime serverless and your endpoint will be created, providing serving over REST api within a Click.\n",
    "\n",
    "Databricks Serverless offer autoscaling, including downscaling to zero when you don't have any traffic to offer best-in-class TCO while keeping low-latencies model serving."
   ]
  },
  {
   "cell_type": "code",
   "execution_count": 0,
   "metadata": {
    "application/vnd.databricks.v1+cell": {
     "cellMetadata": {},
     "inputWidgets": {},
     "nuid": "e279120d-a35c-4536-af54-ee9b5364f413",
     "showTitle": false,
     "tableResultSettingsMap": {},
     "title": ""
    }
   },
   "outputs": [],
   "source": [
    "dataset = spark.table(f'turbine_hourly_features').select(*columns).limit(3).toPandas()\n",
    "dataset"
   ]
  },
  {
   "cell_type": "code",
   "execution_count": 0,
   "metadata": {
    "application/vnd.databricks.v1+cell": {
     "cellMetadata": {},
     "inputWidgets": {},
     "nuid": "cdbd14c0-8015-4057-a5ce-bd88f0009bc2",
     "showTitle": true,
     "tableResultSettingsMap": {},
     "title": "Call the REST API deployed using standard python"
    }
   },
   "outputs": [],
   "source": [
    "from mlflow import deployments\n",
    "\n",
    "model_endpoint_name = \"dbdemos_turbine_maintenance\"\n",
    "\n",
    "def score_model(dataset):\n",
    "  client = mlflow.deployments.get_deploy_client(\"databricks\")\n",
    "  predictions = client.predict(endpoint=model_endpoint_name, inputs=dataset.to_dict(orient='split'))\n",
    "\n",
    "#Deploy your model and uncomment to run your inferences live!\n",
    "#score_model(dataset)"
   ]
  },
  {
   "cell_type": "markdown",
   "metadata": {
    "application/vnd.databricks.v1+cell": {
     "cellMetadata": {},
     "inputWidgets": {},
     "nuid": "59781299-827b-444b-be31-0b1386f3b350",
     "showTitle": false,
     "tableResultSettingsMap": {},
     "title": ""
    }
   },
   "source": [
    "\n",
    "# Next step: Leverage inferences and automate action to lower cost\n",
    "\n",
    "## Automate action to react on potential turbine failure\n",
    "\n",
    "We now have an end 2 end data pipeline analizing and predicting churn. We can now easily trigger actions to reduce the churn based on our business:\n",
    "\n",
    "- Send targeting email campaign to the customer the most likely to churn\n",
    "- Phone campaign to discuss with our customers and understand what's going\n",
    "- Understand what's wrong with our line of product and fixing it\n",
    "\n",
    "These actions are out of the scope of this demo and simply leverage the Churn prediction field from our ML model.\n",
    "\n",
    "## Track churn impact over the next month and campaign impact\n",
    "\n",
    "Of course, this churn prediction can be re-used in our dashboard to analyse future churn and measure churn reduction. \n",
    "\n",
    "The pipeline created with the Lakehouse will offer a strong ROI: it took us a few hours to setup this pipeline end 2 end and we have potential gain for $129,914 / month!\n",
    "\n",
    "<img width=\"800px\" src=\"https://github.com/databricks-demos/dbdemos-resources/raw/main/images/manufacturing/lakehouse-iot-turbine/lakehouse-manuf-iot-dashboard-2.png\">\n",
    "\n",
    "<a dbdemos-dashboard-id=\"turbine-predictive\" href=\"/sql/dashboardsv3/01efb8027e051a98a9eab4b6e4790650\">Open the Predictive Maintenance DBSQL dashboard</a> | [Go back to the introduction]($../00-IOT-wind-turbine-introduction-lakehouse)"
   ]
  }
 ],
 "metadata": {
  "application/vnd.databricks.v1+notebook": {
   "computePreferences": null,
   "dashboards": [],
   "environmentMetadata": null,
   "language": "python",
   "notebookMetadata": {
    "pythonIndentUnit": 2
   },
   "notebookName": "04.3-running-inference-iot-turbine",
   "widgets": {}
  },
  "language_info": {
   "name": "python"
  }
 },
 "nbformat": 4,
 "nbformat_minor": 0
}
