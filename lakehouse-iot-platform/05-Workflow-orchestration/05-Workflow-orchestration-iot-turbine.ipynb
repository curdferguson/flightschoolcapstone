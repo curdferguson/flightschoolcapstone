{
 "cells": [
  {
   "cell_type": "markdown",
   "metadata": {
    "application/vnd.databricks.v1+cell": {
     "cellMetadata": {},
     "inputWidgets": {},
     "nuid": "6eadc013-f4f5-4a8c-9006-9a40620c7200",
     "showTitle": false,
     "tableResultSettingsMap": {},
     "title": ""
    }
   },
   "source": [
    "# Deploying and orchestrating the full workflow\n",
    "\n",
    "<img style=\"float: right; margin-left: 10px\" width=\"300px\" src=\"https://raw.githubusercontent.com/QuentinAmbard/databricks-demo/main/retail/resources/images/lakehouse-retail/lakehouse-retail-churn-5.png\" />\n",
    "\n",
    "All our assets are ready. We now need to define when we want our DLT pipeline to kick in and refresh the tables.\n",
    "\n",
    "One option is to switch DLT pipeline in continuous mode to have a streaming pipeline, providing near-realtime insight.\n",
    "\n",
    "An alternative is to wakeup the DLT pipeline every X hours, ingest the new data (incremental) and shut down all your compute. \n",
    "\n",
    "This is a simple configuration offering a tradeoff between uptime and ingestion latencies.\n",
    "\n",
    "In our case, we decided that the best tradoff is to ingest new data every hours:\n",
    "\n",
    "- Start the DLT pipeline to ingest new data and refresh our tables\n",
    "- Refresh the DBSQL dashboard (and potentially notify downstream applications)\n",
    "- Retrain our model to include the lastest date and capture potential behavior change\n",
    "\n",
    "<!-- Collect usage data (view). Remove it to disable collection. View README for more details.  -->\n",
    "<img width=\"1px\" src=\"https://ppxrzfxige.execute-api.us-west-2.amazonaws.com/v1/analytics?category=lakehouse&org_id=1444828305810485&notebook=%2F05-Workflow-orchestration%2F05-Workflow-orchestration-iot-turbine&demo_name=lakehouse-iot-platform&event=VIEW&path=%2F_dbdemos%2Flakehouse%2Flakehouse-iot-platform%2F05-Workflow-orchestration%2F05-Workflow-orchestration-iot-turbine&version=1\">"
   ]
  },
  {
   "cell_type": "markdown",
   "metadata": {
    "application/vnd.databricks.v1+cell": {
     "cellMetadata": {},
     "inputWidgets": {},
     "nuid": "1162ed44-63e5-41eb-b967-a194705198ce",
     "showTitle": false,
     "tableResultSettingsMap": {},
     "title": ""
    }
   },
   "source": [
    "## Orchestrating our Churn pipeline with Databricks Workflows\n",
    "\n",
    "<img style=\"float: right; margin-left: 10px\" width=\"600px\" src=\"https://github.com/databricks-demos/dbdemos-resources/blob/main/images/retail/lakehouse-churn/lakehouse-retail-c360-workflow.png?raw=true\" />\n",
    "\n",
    "With Databricks Lakehouse, no need for external orchestrator. We can use [Workflows](/#job/list) (available on the left menu) to orchestrate our Churn pipeline within a few click.\n",
    "\n",
    "\n",
    "\n",
    "###  Orchestrate anything anywhere\n",
    "With workflow, you can run diverse workloads for the full data and AI lifecycle on any cloud. Orchestrate Delta Live Tables and Jobs for SQL, Spark, notebooks, dbt, ML models and more.\n",
    "\n",
    "### Simple - Fully managed\n",
    "Remove operational overhead with a fully managed orchestration service, so you can focus on your workflows not on managing your infrastructure.\n",
    "\n",
    "### Proven reliability\n",
    "Have full confidence in your workflows leveraging our proven experience running tens of millions of production workloads daily across AWS, Azure and GCP."
   ]
  },
  {
   "cell_type": "markdown",
   "metadata": {
    "application/vnd.databricks.v1+cell": {
     "cellMetadata": {},
     "inputWidgets": {},
     "nuid": "e7ffb9e5-380d-4252-9d37-dd830747cec5",
     "showTitle": false,
     "tableResultSettingsMap": {},
     "title": ""
    }
   },
   "source": [
    "A workflow was created as part of this demo. Open the <a dbdemos-workflow-id=\"init-job\" href=\"#job/1077400459004092/tasks\" target=\"_blank\">IOT Wind Turbine Workflow</a> to start exploring Databricks orchestration capabilities!"
   ]
  },
  {
   "cell_type": "markdown",
   "metadata": {
    "application/vnd.databricks.v1+cell": {
     "cellMetadata": {},
     "inputWidgets": {},
     "nuid": "716d3139-b4f4-4f6d-b13e-258cda32893c",
     "showTitle": false,
     "tableResultSettingsMap": {},
     "title": ""
    }
   },
   "source": [
    "\n",
    "## Creating your workflow\n",
    "\n",
    "<img style=\"float: right; margin-left: 10px\" width=\"600px\" src=\"https://github.com/databricks-demos/dbdemos-resources/blob/main/images/fsi/smart-claims/fsi-claims-dashboard-full.png?raw=trueg\" />\n",
    "\n",
    "A Databricks Workflow is composed of Tasks.\n",
    "\n",
    "Each task can trigger a specific job:\n",
    "\n",
    "* Delta Live Tables\n",
    "* SQL query / dashboard\n",
    "* Model retraining / inference\n",
    "* Notebooks\n",
    "* dbt\n",
    "* ...\n",
    "\n",
    "In this example, can see our 3 tasks:\n",
    "\n",
    "* Start the DLT pipeline to ingest new data and refresh our tables\n",
    "* Refresh the DBSQL dashboard (and potentially notify downstream applications)\n",
    "* Retrain our Churn model"
   ]
  },
  {
   "cell_type": "markdown",
   "metadata": {
    "application/vnd.databricks.v1+cell": {
     "cellMetadata": {},
     "inputWidgets": {},
     "nuid": "232e96bd-b7f1-4f4f-b444-f701e982dab1",
     "showTitle": false,
     "tableResultSettingsMap": {},
     "title": ""
    }
   },
   "source": [
    "\n",
    "## Monitoring your runs\n",
    "\n",
    "<img style=\"float: right; margin-left: 10px\" width=\"600px\" src=\"https://raw.githubusercontent.com/QuentinAmbard/databricks-demo/main/retail/resources/images/lakehouse-retail/lakehouse-retail-churn-workflow-monitoring.png\" />\n",
    "\n",
    "Once your workflow is created, we can access historical runs and receive alerts if something goes wrong!\n",
    "\n",
    "In the screenshot we can see that our workflow had multiple errors, with different runtime, and ultimately got fixed.\n",
    "\n",
    "Workflow monitoring includes errors, abnormal job duration and more advanced control!"
   ]
  },
  {
   "cell_type": "markdown",
   "metadata": {
    "application/vnd.databricks.v1+cell": {
     "cellMetadata": {},
     "inputWidgets": {},
     "nuid": "c3b6b217-aa96-4e01-9b54-901a7454844e",
     "showTitle": false,
     "tableResultSettingsMap": {},
     "title": ""
    }
   },
   "source": [
    "## Conclusion\n",
    "\n",
    "Not only Datatabricks Lakehouse let you ingest, analyze and infer churn, it also provides a best-in-class orchestrator to offer your business fresh insight making sure everything works as expected!\n",
    "\n",
    "[Go back to introduction]($../00-churn-introduction-lakehouse)"
   ]
  }
 ],
 "metadata": {
  "application/vnd.databricks.v1+notebook": {
   "computePreferences": null,
   "dashboards": [],
   "environmentMetadata": null,
   "language": "python",
   "notebookMetadata": {
    "pythonIndentUnit": 4
   },
   "notebookName": "05-Workflow-orchestration-iot-turbine",
   "widgets": {}
  },
  "language_info": {
   "name": "python"
  }
 },
 "nbformat": 4,
 "nbformat_minor": 0
}
