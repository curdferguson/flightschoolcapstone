{
 "cells": [
  {
   "cell_type": "markdown",
   "metadata": {
    "application/vnd.databricks.v1+cell": {
     "cellMetadata": {},
     "inputWidgets": {},
     "nuid": "a804b2cf-55c5-4f76-9c44-ef0e405e6a32",
     "showTitle": false,
     "tableResultSettingsMap": {},
     "title": ""
    }
   },
   "source": [
    "# IoT Platform with Databricks Intelligence Data Platform - Ingesting Industrial Sensor Data for Real-Time Analysis\n",
    "\n",
    "<img src=\"https://github.com/databricks-demos/dbdemos-resources/raw/main/images/manufacturing/lakehouse-iot-turbine/lakehouse-manuf-iot-full.png \" style=\"float: left; margin-right: 30px\" width=\"600px\" />\n",
    "\n",
    "<br/>\n",
    "\n",
    "## What is The Databricks Intelligence Data Platform for IoT & Manufacturing?\n",
    "\n",
    "It's the only enterprise data platform that allows you to leverage all your data, from any source, running any workload to optimize your production lines with real time data at the lowest cost. \n",
    "\n",
    "The Lakehouse allow you to centralize all your data, from IoT realtime streams to inventory and sales data, providing operational speed and efficiency at a scale never before possible.\n",
    "\n",
    "\n",
    "### Simple\n",
    "  One single platform and governance/security layer for your data warehousing and AI to **accelerate innovation** and **reduce risks**. No need to stitch together multiple solutions with disparate governance and high complexity.\n",
    "\n",
    "### Open\n",
    "  Built on open source and open standards. You own your data and prevent vendor lock-in, with easy integration with a wide range of 3rd party software vendors and services. Being open also lets you share your data with any external organization, regardless of their make-up of their software stack or vendor.\n",
    "\n",
    "### Multi-cloud\n",
    "  One consistent data platform across clouds. Process your data where you need it or where it resides.\n",
    " \n",
    " \n",
    "<!-- Collect usage data (view). Remove it to disable collection. View README for more details.  -->\n",
    "<img width=\"1px\" src=\"https://ppxrzfxige.execute-api.us-west-2.amazonaws.com/v1/analytics?category=lakehouse&org_id=1444828305810485&notebook=%2F00-IOT-wind-turbine-introduction-lakehouse&demo_name=lakehouse-iot-platform&event=VIEW&path=%2F_dbdemos%2Flakehouse%2Flakehouse-iot-platform%2F00-IOT-wind-turbine-introduction-lakehouse&version=1\">"
   ]
  },
  {
   "cell_type": "markdown",
   "metadata": {
    "application/vnd.databricks.v1+cell": {
     "cellMetadata": {},
     "inputWidgets": {},
     "nuid": "5ba94888-64fc-4ad6-a968-29d015713e38",
     "showTitle": false,
     "tableResultSettingsMap": {},
     "title": ""
    }
   },
   "source": [
    "## Wind Turbine Predictive Maintenance with the Databricks Intelligence Data Platform\n",
    "\n",
    "<img src=\"https://github.com/QuentinAmbard/databricks-demo/raw/main/manufacturing/wind_turbine/turbine-photo-open-license.jpg\" width=\"400px\" style=\"float:right; margin-left: 20px\"/>\n",
    "\n",
    "Being able to collect and centralize industrial equipment information in real time is critical in the energy space. When a wind turbine is down, it is not generating power which leads to poor customer service and lost revenue. Data is the key to unlock critical capabilities such as energy optimization, anomaly detection, and/or predictive maintenance. <br/> \n",
    "\n",
    "Predictive maintenance examples include:\n",
    "\n",
    "- Predict mechanical failure in an energy pipeline\n",
    "- Detect abnormal behavior in a production line\n",
    "- Optimize supply chain of parts and staging for scheduled maintenance and repairs\n",
    "\n",
    "### What we'll build\n",
    "\n",
    "In this demo, we'll build a end-to-end IoT platform, collecting data from multiple sources in real time. \n",
    "\n",
    "Based on this information, we will show how analyst can proactively identify and schedule repairs for Wind turbines prior to failure, in order to increase energy production.\n",
    "\n",
    "In addition, the business requested a dashboard that would allow their Turbine Maintenance group to monitor the turbines and identify any that are currently inoperable and those that are at risk of failure. This will also allow us to track our ROI and ensure we reach our productivity goals over the year.\n",
    "\n",
    "At a very high level, this is the flow we will implement:\n",
    "\n",
    "<img width=\"1000px\" src=\"https://github.com/databricks-demos/dbdemos-resources/raw/main/images/manufacturing/lakehouse-iot-turbine/lakehouse-manuf-iot-maintenance.png\" />\n",
    "\n",
    "\n",
    "1. Ingest and create our IoT database and tables which are easily queriable via SQL\n",
    "2. Secure data and grant read access to the Data Analyst and Data Science teams.\n",
    "3. Run BI queries to analyze existing failures\n",
    "4. Build ML model to monitor our wind turbine farm & trigger predictive maintenance operations\n",
    "\n",
    "Being able to predict which wind turbine will potentially fail is only the first step to increase our wind turbine farm efficiency. Once we're able to build a model predicting potential maintenance, we can dynamically adapt our spare part stock and even automatically dispatch maintenance team with the proper equipment.\n",
    "\n",
    "### Our dataset\n",
    "\n",
    "To simplify this demo, we'll consider that an external system is periodically sending data into our blob storage (S3/ADLS/GCS):\n",
    "\n",
    "- Turbine data *(location, model, identifier etc)*\n",
    "- Wind turbine sensors, every sec *(energy produced, vibration, typically in streaming)*\n",
    "- Turbine status over time, labelled by our analyst team *(historical data to train on model on)*\n",
    "\n",
    "*Note that at a technical level, our data could come from any source. Databricks can ingest data from any system (SalesForce, Fivetran, queuing message like kafka, blob storage, SQL & NoSQL databases...).*\n",
    "\n",
    "Let's see how this data can be used within the Lakehouse to analyze sensor data & trigger predictive maintenance."
   ]
  },
  {
   "cell_type": "markdown",
   "metadata": {
    "application/vnd.databricks.v1+cell": {
     "cellMetadata": {},
     "inputWidgets": {},
     "nuid": "8354343b-9505-477a-8f5a-caa2ece6cd0f",
     "showTitle": false,
     "tableResultSettingsMap": {},
     "title": ""
    }
   },
   "source": [
    "## 1/ Ingesting and Preparing the Data (Data Engineering)\n",
    "\n",
    "<img style=\"float: left; margin-right: 20px\" width=\"400px\" src=\"https://github.com/databricks-demos/dbdemos-resources/raw/main/images/manufacturing/lakehouse-iot-turbine/lakehouse-manuf-iot-1.png\" />\n",
    "\n",
    "\n",
    "<br/>\n",
    "<div style=\"padding-left: 420px\">\n",
    "Our first step is to ingest and clean the raw data we received so that our Data Analyst team can start running analysis on top of it.\n",
    "\n",
    "\n",
    "<img src=\"https://pages.databricks.com/rs/094-YMS-629/images/delta-lake-logo.png\" style=\"float: right; margin-top: 20px\" width=\"200px\">\n",
    "\n",
    "### Delta Lake\n",
    "\n",
    "All the tables we'll create in the Lakehouse will be stored as Delta Lake tables. [Delta Lake](https://delta.io) is an open storage framework for reliability and performance. <br/>\n",
    "It provides many functionalities such as *(ACID Transaction, DELETE/UPDATE/MERGE, Clone zero copy, Change data Capture...)* <br />\n",
    "For more details on Delta Lake, run `dbdemos.install('delta-lake')`\n",
    "\n",
    "### Simplify ingestion with Delta Live Tables (DLT)\n",
    "\n",
    "Databricks simplifies data ingestion and transformation with Delta Live Tables by allowing SQL users to create advanced pipelines via batch or streaming. Databricks also simplifies pipeline deployment, testing, and tracking data quality which reduces operational complexity, so that you can focus on the needs of the business.<br/>"
   ]
  },
  {
   "cell_type": "markdown",
   "metadata": {
    "application/vnd.databricks.v1+cell": {
     "cellMetadata": {},
     "inputWidgets": {},
     "nuid": "7d62c273-a7a1-48c4-ab7f-13befd5d72b4",
     "showTitle": false,
     "tableResultSettingsMap": {},
     "title": ""
    }
   },
   "source": [
    "Open the Wind Turbine \n",
    "  <a dbdemos-pipeline-id=\"dlt-iot-wind-turbine\" href=\"#joblist/pipelines/835a25d5-ecdf-4d3c-bf54-453cea744979\" target=\"_blank\">Delta Live Table pipeline</a> or the [SQL notebook]($./01-Data-ingestion/01.1-DLT-Wind-Turbine-SQL) *(Alternatives: DLT Python version Soon available - [plain Delta+Spark version]($./01-Data-ingestion/plain-spark-delta-pipeline/01.5-Delta-pipeline-spark-iot-turbine))*. <br>\n",
    "  For more details on DLT: `dbdemos.install('dlt-load')` or `dbdemos.install('dlt-cdc')`"
   ]
  },
  {
   "cell_type": "markdown",
   "metadata": {
    "application/vnd.databricks.v1+cell": {
     "cellMetadata": {},
     "inputWidgets": {},
     "nuid": "66b7e7c6-0888-4087-9abc-69676bd90d92",
     "showTitle": false,
     "tableResultSettingsMap": {},
     "title": ""
    }
   },
   "source": [
    "## 2/ Securing Data & Governance (Unity Catalog)\n",
    "\n",
    "<img style=\"float: left\" width=\"400px\" src=\"https://github.com/databricks-demos/dbdemos-resources/raw/main/images/manufacturing/lakehouse-iot-turbine/lakehouse-manuf-iot-5.png\" />\n",
    "\n",
    "<br/><br/><br/>\n",
    "<div style=\"padding-left: 420px\">\n",
    "  Now that our first tables have been created, we need to grant our Data Analyst team READ access to be able to start analyzing our turbine failure information.\n",
    "  \n",
    "  Let's see how Unity Catalog provides Security & governance across our data assets and includes data lineage and audit logs.\n",
    "  \n",
    "  Note that Unity Catalog integrates Delta Sharing, an open protocol to share your data with any external organization, regardless of their software or data stack. For more details:  `dbdemos.install('delta-sharing-airlines')`\n",
    " </div>"
   ]
  },
  {
   "cell_type": "markdown",
   "metadata": {
    "application/vnd.databricks.v1+cell": {
     "cellMetadata": {},
     "inputWidgets": {},
     "nuid": "1643a932-025a-481a-b2a5-db70f89defe2",
     "showTitle": false,
     "tableResultSettingsMap": {},
     "title": ""
    }
   },
   "source": [
    "   Open [Unity Catalog notebook]($./02-Data-governance/02-UC-data-governance-security-iot-turbine) to see how to setup ACL and explore lineage with the Data Explorer.\n",
    "  "
   ]
  },
  {
   "cell_type": "markdown",
   "metadata": {
    "application/vnd.databricks.v1+cell": {
     "cellMetadata": {},
     "inputWidgets": {},
     "nuid": "76d6e647-ad2e-4aab-a49d-043d5dc064d7",
     "showTitle": false,
     "tableResultSettingsMap": {},
     "title": ""
    }
   },
   "source": [
    "## 3/ Analysing Failures (BI / Data warehousing / SQL) \n",
    "\n",
    "<img width=\"300px\" src=\"https://github.com/databricks-demos/dbdemos-resources/raw/main/images/manufacturing/lakehouse-iot-turbine/lakehouse-manuf-iot-dashboard-1.png\"  style=\"float: right; margin: 100px 0px 10px;\"/>\n",
    "\n",
    "<img width=\"400px\" src=\"https://raw.githubusercontent.com/QuentinAmbard/databricks-demo/main/retail/resources/images/lakehouse-retail/lakehouse-retail-churn-3.png\"  style=\"float: left; margin-right: 10px\"/>\n",
    " \n",
    "<br><br><br>\n",
    "Our datasets are now properly ingested, secured, are of high quality and easily discoverable within our organization.\n",
    "\n",
    "Data Analysts are now ready to run BI interactive queries which are low latency & high throughput. They can choose to either create a new compute cluster, use a shared cluster, or for even faster response times, use Databricks Serverless Datawarehouses which provide instant stop & start.\n",
    "\n",
    "Let's see how Data Warehousing is done using Databricks! We will look at our built-in dashboards as Databricks provides a complete data platform from ingest to analysis but also provides to integrations with many popular BI tools such as PowerBI, Tableau and others!"
   ]
  },
  {
   "cell_type": "markdown",
   "metadata": {
    "application/vnd.databricks.v1+cell": {
     "cellMetadata": {},
     "inputWidgets": {},
     "nuid": "21ff401e-77e6-40c8-8686-dc305dccb65f",
     "showTitle": false,
     "tableResultSettingsMap": {},
     "title": ""
    }
   },
   "source": [
    "Open the [Datawarehousing notebook]($./03-BI-data-warehousing/03-BI-Datawarehousing-iot-turbine) to start running your BI queries or access or directly open the <a dbdemos-dashboard-id=\"turbine-analysis\" href=\"/sql/dashboardsv3/01efb8027cc51e4cac9f63b0f6c6d035\" target=\"_blank\">Wind turbine sensor dashboard</a>"
   ]
  },
  {
   "cell_type": "markdown",
   "metadata": {
    "application/vnd.databricks.v1+cell": {
     "cellMetadata": {},
     "inputWidgets": {},
     "nuid": "c8643785-7e88-4e75-b323-f4703ac5d5bf",
     "showTitle": false,
     "tableResultSettingsMap": {},
     "title": ""
    }
   },
   "source": [
    "## 4/ Predict Failure with Data Science & Auto-ML\n",
    "\n",
    "<img width=\"400px\" style=\"float: left; margin-right: 10px\" src=\"https://github.com/databricks-demos/dbdemos-resources/raw/main/images/manufacturing/lakehouse-iot-turbine/lakehouse-manuf-iot-3.png\" />\n",
    "\n",
    "<br><br><br>\n",
    "Being able to run analysis on our historical data provided the team with a lot of insights to drive our business. We can now better understand the impact of downtime and see which turbines are currently down in our near real-time dashboard.\n",
    "\n",
    "However, knowing what turbines have failed isn't enough. We now need to take it to the next level and build a predictive model to detect potential failures before they happen and increase uptime and minimize costs.\n",
    "\n",
    "This is where the Lakehouse value comes in. Within the same platform, anyone can start building an ML model to predict the failures using traditional ML development or with our low code solution AutoML."
   ]
  },
  {
   "cell_type": "markdown",
   "metadata": {
    "application/vnd.databricks.v1+cell": {
     "cellMetadata": {},
     "inputWidgets": {},
     "nuid": "0964792d-c019-4c14-abc1-389000d6cec7",
     "showTitle": false,
     "tableResultSettingsMap": {},
     "title": ""
    }
   },
   "source": [
    "Let's see how to train an ML model within 1 click with the [04.1-automl-iot-turbine-predictive-maintenance]($./04-Data-Science-ML/04.1-automl-iot-turbine-predictive-maintenance)"
   ]
  },
  {
   "cell_type": "markdown",
   "metadata": {
    "application/vnd.databricks.v1+cell": {
     "cellMetadata": {},
     "inputWidgets": {},
     "nuid": "7bda28bd-5aed-4727-bf57-a9ed67b13a8c",
     "showTitle": false,
     "tableResultSettingsMap": {},
     "title": ""
    }
   },
   "source": [
    "\n",
    "## Automate Action to Reduce Turbine Outage Based on Predictions\n",
    "\n",
    "\n",
    "<img style=\"float: right\" width=\"400px\" src=\"https://github.com/databricks-demos/dbdemos-resources/raw/main/images/manufacturing/lakehouse-iot-turbine/lakehouse-manuf-iot-dashboard-2.png\">\n",
    "\n",
    "We now have an end-to-end data pipeline analyzing sensor data and detecting potential failures before they happen. We can now easily trigger actions to reduce outages such as:\n",
    "\n",
    "- Schedule maintenance based on teams availability and fault gravity\n",
    "- Stage parts and supplies accordingly to predictive maintenance operations, while keeping a low stock on hand\n",
    "- Analyze past issues and component failures to improve resiliency\n",
    "- Track our predictive maintenance model efficiency by measuring its efficiency and ROI\n",
    "\n",
    "*Note: These actions are out of the scope of this demo and simply leverage the Predictive maintenance result from our ML model.*"
   ]
  },
  {
   "cell_type": "markdown",
   "metadata": {
    "application/vnd.databricks.v1+cell": {
     "cellMetadata": {},
     "inputWidgets": {},
     "nuid": "e038eece-6ea7-4b87-8bb9-d203077c8b60",
     "showTitle": false,
     "tableResultSettingsMap": {},
     "title": ""
    }
   },
   "source": [
    "\n",
    "Open the <a dbdemos-dashboard-id=\"turbine-predictive\" href=\"/sql/dashboardsv3/01efb8027cc51e4cac9f63b0f6c6d035\">DBSQL Predictive maintenance Dashboard</a> to have a complete view of your wind turbine farm, including potential faulty turbines and action to remedy that."
   ]
  },
  {
   "cell_type": "markdown",
   "metadata": {
    "application/vnd.databricks.v1+cell": {
     "cellMetadata": {},
     "inputWidgets": {},
     "nuid": "6c78ef73-8e80-4c8e-a112-67d8f6c4a5c8",
     "showTitle": false,
     "tableResultSettingsMap": {},
     "title": ""
    }
   },
   "source": [
    "## 5/ Deploying and Orchestrating the Full Workflow\n",
    "\n",
    "<img style=\"float: left; margin-right: 10px\" width=\"400px\" src=\"https://github.com/databricks-demos/dbdemos-resources/raw/main/images/manufacturing/lakehouse-iot-turbine/lakehouse-manuf-iot-4.png\" />\n",
    "\n",
    "<br><br><br>\n",
    "While our data pipeline is almost completed, we're missing one last step: orchestrating the full workflow in production.\n",
    "\n",
    "With Databricks Lakehouse, there is no need to utilize an external orchestrator to run your job. Databricks Workflows simplifies all your jobs, with advanced alerting, monitoring, branching options etc."
   ]
  },
  {
   "cell_type": "markdown",
   "metadata": {
    "application/vnd.databricks.v1+cell": {
     "cellMetadata": {},
     "inputWidgets": {},
     "nuid": "f26f34d9-738c-4486-b73b-2b4b063f5e31",
     "showTitle": false,
     "tableResultSettingsMap": {},
     "title": ""
    }
   },
   "source": [
    "Open the [workflow and orchestration notebook]($./05-Workflow-orchestration/05-Workflow-orchestration-iot-turbine) to schedule our pipeline (data ingetion, model re-training etc)"
   ]
  },
  {
   "cell_type": "markdown",
   "metadata": {
    "application/vnd.databricks.v1+cell": {
     "cellMetadata": {},
     "inputWidgets": {},
     "nuid": "890ff43a-e744-4aec-8672-955d9a827f3a",
     "showTitle": false,
     "tableResultSettingsMap": {},
     "title": ""
    }
   },
   "source": [
    "\n",
    "## Conclusion\n",
    "\n",
    "We demonstrated how to implement an end-to-end pipeline with the Lakehouse, using a single, unified and secured platform. We saw:\n",
    "\n",
    "- Data Ingestion\n",
    "- Data Analysis / DW / BI \n",
    "- Data Science / ML\n",
    "- Workflow & Orchestration\n",
    "\n",
    "And as a result, our business analysis team was able to build a system to not only understand failures better but also forecast future failures and take action accordingly.\n",
    "\n",
    "*This was only an introduction to the Databricks Platform. For more details, contact your account team and explore more demos with `dbdemos.list()`!*"
   ]
  }
 ],
 "metadata": {
  "application/vnd.databricks.v1+notebook": {
   "computePreferences": null,
   "dashboards": [],
   "environmentMetadata": null,
   "language": "sql",
   "notebookMetadata": {
    "pythonIndentUnit": 4
   },
   "notebookName": "00-IOT-wind-turbine-introduction-lakehouse",
   "widgets": {}
  },
  "language_info": {
   "name": "sql"
  }
 },
 "nbformat": 4,
 "nbformat_minor": 0
}
